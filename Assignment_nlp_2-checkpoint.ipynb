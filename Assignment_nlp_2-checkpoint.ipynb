{
 "cells": [
  {
   "cell_type": "code",
   "execution_count": 40,
   "metadata": {
    "id": "9H7aUv_zaUPj"
   },
   "outputs": [],
   "source": [
    "#Q1\n",
    "pdf_path=\"owlcreek.txt\"\n",
    "f=open(pdf_path,'r')"
   ]
  },
  {
   "cell_type": "code",
   "execution_count": 46,
   "metadata": {
    "id": "R-6wgT2DaXtq"
   },
   "outputs": [
    {
     "data": {
      "text/plain": [
       "0"
      ]
     },
     "execution_count": 46,
     "metadata": {},
     "output_type": "execute_result"
    }
   ],
   "source": [
    "f.seek(0)"
   ]
  },
  {
   "cell_type": "code",
   "execution_count": 47,
   "metadata": {
    "id": "1zILjA5qa_XA"
   },
   "outputs": [
    {
     "data": {
      "text/plain": [
       "'AN OCCURRENCE AT OWL CREEK BRIDGE\\n\\nby Ambrose Bierce\\n\\nI\\n\\nA man stood upon a railroad bridge in northern Alabama, looking down\\ninto the swift water twenty feet below.  The man\\'s hands were behind\\nhis back, the wrists bound with a cord.  A rope closely encircled his\\nneck.  It was attached to a stout cross-timber above his head and the\\nslack fell to the level of his knees.  Some loose boards laid upon the\\nties supporting the rails of the railway supplied a footing for him\\nand his executioners--two private soldiers of the Federal army,\\ndirected by a sergeant who in civil life may have been a deputy\\nsheriff.  At a short remove upon the same temporary platform was an\\nofficer in the uniform of his rank, armed.  He was a captain.  A\\nsentinel at each end of the bridge stood with his rifle in the\\nposition known as \"support,\" that is to say, vertical in front of the\\nleft shoulder, the hammer resting on the forearm thrown straight\\nacross the chest--a formal and unnatural position, enforcing an erect\\ncarriage of the body.  It did not appear to be the duty of these two\\nmen to know what was occurring at the center of the bridge; they\\nmerely blockaded the two ends of the foot planking that traversed it.\\n\\nBeyond one of the sentinels nobody was in sight; the railroad ran\\nstraight away into a forest for a hundred yards, then, curving, was\\nlost to view.  Doubtless there was an outpost farther along.  The\\nother bank of the stream was open ground--a gentle slope topped with\\na stockade of vertical tree trunks, loopholed for rifles, with a\\nsingle embrasure through which protruded the muzzle of a brass cannon\\ncommanding the bridge.  Midway up the slope between the bridge and\\nfort were the spectators--a single company of infantry in line, at\\n\"parade rest,\" the butts of their rifles on the ground, the barrels\\ninclining slightly backward against the right shoulder, the hands\\ncrossed upon the stock. A lieutenant stood at the right of the line,\\nthe point of his sword upon the ground, his left hand resting upon his\\nright.  Excepting the group of four at the center of the bridge, not a\\nman moved.  The company faced the bridge, staring stonily, motionless.\\nThe sentinels, facing the banks of the stream, might have been statues\\nto adorn the bridge.  The captain stood with folded arms, silent,\\nobserving the work of his subordinates, but making no sign. Death is a\\ndignitary who when he comes announced is to be received with formal\\nmanifestations of respect, even by those most familiar with him.  In\\nthe code of military etiquette silence and fixity are forms of\\ndeference.\\n\\nThe man who was engaged in being hanged was apparently about\\nthirty-five years of age.  He was a civilian, if one might judge from\\nhis habit, which was that of a planter.  His features were good--a\\nstraight nose, firm mouth, broad forehead, from which his long, dark\\nhair was combed straight back, falling behind his ears to the collar\\nof his well fitting frock coat.  He wore a moustache and pointed\\nbeard, but no whiskers; his eyes were large and dark gray, and had a\\nkindly expression which one would hardly have expected in one whose\\nneck was in the hemp.  Evidently this was no vulgar assassin.  The\\nliberal military code makes provision for hanging many kinds of\\npersons, and gentlemen are not excluded.\\n\\nThe preparations being complete, the two private soldiers stepped\\naside and each drew away the plank upon which he had been standing.\\nThe sergeant turned to the captain, saluted and placed himself\\nimmediately behind that officer, who in turn moved apart one pace.\\nThese movements left the condemned man and the sergeant standing on\\nthe two ends of the same plank, which spanned three of the cross-ties\\nof the bridge.  The end upon which the civilian stood almost, but not\\nquite, reached a fourth.  This plank had been held in place by the\\nweight of the captain; it was now held by that of the sergeant.  At a\\nsignal from the former the latter would step aside, the plank would\\ntilt and the condemned man go down between two ties.  The arrangement\\ncommended itself to his judgement as simple and effective.  His face\\nhad not been covered nor his eyes bandaged.  He looked a moment at his\\n\"unsteadfast footing,\" then let his gaze wander to the swirling water\\nof the stream racing madly beneath his feet. A piece of dancing\\ndriftwood caught his attention and his eyes followed it down the\\ncurrent.  How slowly it appeared to move!  What a sluggish stream!\\n\\nHe closed his eyes in order to fix his last thoughts upon his wife and\\nchildren.  The water, touched to gold by the early sun, the brooding\\nmists under the banks at some distance down the stream, the fort, the\\nsoldiers, the piece of drift--all had distracted him.  And now he\\nbecame conscious of a new disturbance.  Striking through the thought\\nof his dear ones was sound which he could neither ignore nor\\nunderstand, a sharp, distinct, metallic percussion like the stroke of\\na blacksmith\\'s hammer upon the anvil; it had the same ringing quality.\\nHe wondered what it was, and whether immeasurably distant or near by--\\nit seemed both.  Its recurrence was regular, but as slow as the\\ntolling of a death knell.  He awaited each new stroke with impatience\\nand--he knew not why--apprehension.  The intervals of silence grew\\nprogressively longer; the delays became maddening.  With their greater\\ninfrequency the sounds increased in strength and sharpness.  They hurt\\nhis ear like the thrust of a knife; he feared he would shriek.  What he\\nheard was the ticking of his watch.\\n\\nHe unclosed his eyes and saw again the water below him.  \"If I could\\nfree my hands,\" he thought, \"I might throw off the noose and spring\\ninto the stream.  By diving I could evade the bullets and, swimming\\nvigorously, reach the bank, take to the woods and get away home.  My\\nhome, thank God, is as yet outside their lines; my wife and little\\nones are still beyond the invader\\'s farthest advance.\"\\n\\nAs these thoughts, which have here to be set down in words, were\\nflashed into the doomed man\\'s brain rather than evolved from it the\\ncaptain nodded to the sergeant.  The sergeant stepped aside.\\n\\nII\\n\\nPeyton Farquhar was a well to do planter, of an old and highly\\nrespected Alabama family.  Being a slave owner and like other slave\\nowners a politician, he was naturally an original secessionist and\\nardently devoted to the Southern cause.  Circumstances of an imperious\\nnature, which it is unnecessary to relate here, had prevented him from\\ntaking service with that gallant army which had fought the disastrous\\ncampaigns ending with the fall of Corinth, and he chafed under the\\ninglorious restraint, longing for the release of his energies, the\\nlarger life of the soldier, the opportunity for distinction.  That\\nopportunity, he felt, would come, as it comes to all in wartime.\\nMeanwhile he did what he could.  No service was too humble for him to\\nperform in the aid of the South, no adventure too perilous for him to\\nundertake if consistent with the character of a civilian who was at\\nheart a soldier, and who in good faith and without too much\\nqualification assented to at least a part of the frankly villainous\\ndictum that all is fair in love and war.\\n\\nOne evening while Farquhar and his wife were sitting on a rustic bench\\nnear the entrance to his grounds, a gray-clad soldier rode up to the\\ngate and asked for a drink of water. Mrs. Farquhar was only too happy\\nto serve him with her own white hands.  While she was fetching the\\nwater her husband approached the dusty horseman and inquired eagerly\\nfor news from the front.\\n\\n\"The Yanks are repairing the railroads,\" said the man, \"and are\\ngetting ready for another advance.  They have reached the Owl Creek\\nbridge, put it in order and built a stockade on the north bank.  The\\ncommandant has issued an order, which is posted everywhere, declaring\\nthat any civilian caught interfering with the railroad, its bridges,\\ntunnels, or trains will be summarily hanged.  I saw the order.\"\\n\\n\"How far is it to the Owl Creek bridge?\" Farquhar asked.\\n\\n\"About thirty miles.\"\\n\\n\"Is there no force on this side of the creek?\"\\n\\n\"Only a picket post half a mile out, on the railroad, and a single\\nsentinel at this end of the bridge.\"\\n\\n\"Suppose a man--a civilian and student of hanging--should elude the\\npicket post and perhaps get the better of the sentinel,\" said\\nFarquhar, smiling, \"what could he accomplish?\"\\n\\nThe soldier reflected.  \"I was there a month ago,\" he replied.  \"I\\nobserved that the flood of last winter had lodged a great quantity of\\ndriftwood against the wooden pier at this end of the bridge.  It is\\nnow dry and would burn like tinder.\"\\n\\nThe lady had now brought the water, which the soldier drank. He\\nthanked her ceremoniously, bowed to her husband and rode away.  An\\nhour later, after nightfall, he repassed the plantation, going\\nnorthward in the direction from which he had come.  He was a Federal\\nscout.\\n\\nIII\\n\\nAs Peyton Farquhar fell straight downward through the bridge he lost\\nconsciousness and was as one already dead. From this state he was\\nawakened--ages later, it seemed to him--by the pain of a sharp\\npressure upon his throat, followed by a sense of suffocation.  Keen,\\npoignant agonies seemed to shoot from his neck downward through every\\nfiber of his body and limbs.  These pains appeared to flash along well\\ndefined lines of ramification and to beat with an inconceivably rapid\\nperiodicity.  They seemed like streams of pulsating fire heating him\\nto an intolerable temperature.  As to his head, he was conscious of\\nnothing but a feeling of fullness--of congestion.  These sensations\\nwere unaccompanied by thought.  The intellectual part of his nature\\nwas already effaced; he had power only to feel, and feeling was\\ntorment.  He was conscious of motion. Encompassed in a luminous cloud,\\nof which he was now merely the fiery heart, without material\\nsubstance, he swung through unthinkable arcs of oscillation, like a\\nvast pendulum.  Then all at once, with terrible suddenness, the light\\nabout him shot upward with the noise of a loud splash; a frightful\\nroaring was in his ears, and all was cold and dark.  The power of\\nthought was restored; he knew that the rope had broken and he had\\nfallen into the stream.  There was no additional strangulation; the\\nnoose about his neck was already suffocating him and kept the water\\nfrom his lungs.  To die of hanging at the bottom of a river!--the idea\\nseemed to him ludicrous.  He opened his eyes in the darkness and saw\\nabove him a gleam of light, but how distant, how inaccessible!  He was\\nstill sinking, for the light became fainter and fainter until it was a\\nmere glimmer.  Then it began to grow and brighten, and he knew that he\\nwas rising toward the surface--knew it with reluctance, for he was now\\nvery comfortable.  \"To be hanged and drowned,\" he thought, \"that is\\nnot so bad; but I do not wish to be shot.  No; I will not be shot;\\nthat is not fair.\"\\n\\nHe was not conscious of an effort, but a sharp pain in his wrist\\napprised him that he was trying to free his hands.  He gave the\\nstruggle his attention, as an idler might observe the feat of a\\njuggler, without interest in the outcome.  What splendid effort!--what\\nmagnificent, what superhuman strength!  Ah, that was a fine endeavor!\\nBravo!  The cord fell away; his arms parted and floated upward, the\\nhands dimly seen on each side in the growing light.  He watched them\\nwith a new interest as first one and then the other pounced upon the\\nnoose at his neck.  They tore it away and thrust it fiercely aside,\\nits undulations resembling those of a water snake.  \"Put it back, put\\nit back!\"  He thought he shouted these words to his hands, for the\\nundoing of the noose had been succeeded by the direst pang that he had\\nyet experienced.  His neck ached horribly; his brain was on fire, his\\nheart, which had been fluttering faintly, gave a great leap, trying to\\nforce itself out at his mouth.  His whole body was racked and wrenched\\nwith an insupportable anguish! But his disobedient hands gave no heed\\nto the command.  They beat the water vigorously with quick, downward\\nstrokes, forcing him to the surface.  He felt his head emerge; his\\neyes were blinded by the sunlight; his chest expanded convulsively,\\nand with a supreme and crowning agony his lungs engulfed a great\\ndraught of air, which instantly he expelled in a shriek!\\n\\nHe was now in full possession of his physical senses.  They were,\\nindeed, preternaturally keen and alert.  Something in the awful\\ndisturbance of his organic system had so exalted and refined them that\\nthey made record of things never before perceived.  He felt the\\nripples upon his face and heard their separate sounds as they struck.\\nHe looked at the forest on the bank of the stream, saw the individual\\ntrees, the leaves and the veining of each leaf--he saw the very\\ninsects upon them:  the locusts, the brilliant bodied flies, the gray\\nspiders stretching their webs from twig to twig.  He noted the\\nprismatic colors in all the dewdrops upon a million blades of grass.\\nThe humming of the gnats that danced above the eddies of the stream,\\nthe beating of the dragon flies\\' wings, the strokes of the water\\nspiders\\' legs, like oars which had lifted their boat--all these made\\naudible music.  A fish slid along beneath his eyes and he heard the\\nrush of its body parting the water.\\n\\nHe had come to the surface facing down the stream; in a moment the\\nvisible world seemed to wheel slowly round, himself the pivotal point,\\nand he saw the bridge, the fort, the soldiers upon the bridge, the\\ncaptain, the sergeant, the two privates, his executioners.  They were\\nin silhouette against the blue sky.  They shouted and gesticulated,\\npointing at him.  The captain had drawn his pistol, but did not fire;\\nthe others were unarmed.  Their movements were grotesque and horrible,\\ntheir forms gigantic.\\n\\nSuddenly he heard a sharp report and something struck the water\\nsmartly within a few inches of his head, spattering his face with\\nspray.  He heard a second report, and saw one of the sentinels with\\nhis rifle at his shoulder, a light cloud of blue smoke rising from the\\nmuzzle.  The man in the water saw the eye of the man on the bridge\\ngazing into his own through the sights of the rifle.  He observed that\\nit was a gray eye and remembered having read that gray eyes were\\nkeenest, and that all famous marksmen had them. Nevertheless, this one\\nhad missed.\\n\\nA counter-swirl had caught Farquhar and turned him half round; he was\\nagain looking at the forest on the bank opposite the fort.  The sound\\nof a clear, high voice in a monotonous singsong now rang out behind\\nhim and came across the water with a distinctness that pierced and\\nsubdued all other sounds, even the beating of the ripples in his ears.\\nAlthough no soldier, he had frequented camps enough to know the dread\\nsignificance of that deliberate, drawling, aspirated chant; the\\nlieutenant on shore was taking a part in the morning\\'s work.  How\\ncoldly and pitilessly--with what an even, calm intonation, presaging,\\nand enforcing tranquility in the men--with what accurately measured\\ninterval fell those cruel words:\\n\\n\"Company! . . . Attention! . . . Shoulder arms! . . . Ready!. . .\\nAim! . . . Fire!\"\\n\\nFarquhar dived--dived as deeply as he could.  The water roared in his\\nears like the voice of Niagara, yet he heard the dull thunder of the\\nvolley and, rising again toward the surface, met shining bits of\\nmetal, singularly flattened, oscillating slowly downward.  Some of\\nthem touched him on the face and hands, then fell away, continuing\\ntheir descent. One lodged between his collar and neck; it was\\nuncomfortably warm and he snatched it out.\\n\\nAs he rose to the surface, gasping for breath, he saw that he had been\\na long time under water; he was perceptibly farther downstream--nearer\\nto safety.  The soldiers had almost finished reloading; the metal\\nramrods flashed all at once in the sunshine as they were drawn from\\nthe barrels, turned in the air, and thrust into their sockets.  The\\ntwo sentinels fired again, independently and ineffectually.\\n\\nThe hunted man saw all this over his shoulder; he was now swimming\\nvigorously with the current.  His brain was as energetic as his arms\\nand legs; he thought with the rapidity of lightning:\\n\\n\"The officer,\" he reasoned, \"will not make that martinet\\'s error a\\nsecond time.  It is as easy to dodge a volley as a single shot.  He\\nhas probably already given the command to fire at will.  God help me,\\nI cannot dodge them all!\"\\n\\nAn appalling splash within two yards of him was followed by a loud,\\nrushing sound, DIMINUENDO, which seemed to travel back through the air\\nto the fort and died in an explosion which stirred the very river to\\nits deeps!  A rising sheet of water curved over him, fell down upon\\nhim, blinded him, strangled him!  The cannon had taken an hand in the\\ngame.  As he shook his head free from the commotion of the smitten\\nwater he heard the deflected shot humming through the air ahead, and\\nin an instant it was cracking and smashing the branches in the forest\\nbeyond.\\n\\n\"They will not do that again,\" he thought; \"the next time they will\\nuse a charge of grape.  I must keep my eye upon the gun; the smoke\\nwill apprise me--the report arrives too late; it lags behind the\\nmissile.  That is a good gun.\"\\n\\nSuddenly he felt himself whirled round and round--spinning like a top.\\nThe water, the banks, the forests, the now distant bridge, fort and\\nmen, all were commingled and blurred.  Objects were represented by\\ntheir colors only; circular horizontal streaks of color--that was all\\nhe saw. He had been caught in a vortex and was being whirled on with a\\nvelocity of advance and gyration that made him giddy and sick.  In few\\nmoments he was flung upon the gravel at the foot of the left bank of\\nthe stream--the southern bank--and behind a projecting point which\\nconcealed him from his enemies.  The sudden arrest of his motion, the\\nabrasion of one of his hands on the gravel, restored him, and he wept\\nwith delight.  He dug his fingers into the sand, threw it over himself\\nin handfuls and audibly blessed it.  It looked like diamonds, rubies,\\nemeralds; he could think of nothing beautiful which it did not\\nresemble.  The trees upon the bank were giant garden plants; he noted\\na definite order in their arrangement, inhaled the fragrance of their\\nblooms.  A strange roseate light shone through the spaces among their\\ntrunks and the wind made in their branches the music of AEolian harps.\\nHe had not wish to perfect his escape--he was content to remain in\\nthat enchanting spot until retaken.\\n\\nA whiz and a rattle of grapeshot among the branches high above his\\nhead roused him from his dream.  The baffled cannoneer had fired him a\\nrandom farewell.  He sprang to his feet, rushed up the sloping bank,\\nand plunged into the forest.\\n\\nAll that day he traveled, laying his course by the rounding sun.  The\\nforest seemed interminable; nowhere did he discover a break in it, not\\neven a woodman\\'s road.  He had not known that he lived in so wild a\\nregion.  There was something uncanny in the revelation.\\n\\nBy nightfall he was fatigued, footsore, famished.  The thought of his\\nwife and children urged him on.  At last he found a road which led him\\nin what he knew to be the right direction.  It was as wide and\\nstraight as a city street, yet it seemed untraveled.  No fields\\nbordered it, no dwelling anywhere.  Not so much as the barking of a\\ndog suggested human habitation.  The black bodies of the trees formed\\na straight wall on both sides, terminating on the horizon in a point,\\nlike a diagram in a lesson in perspective.  Overhead, as he looked up\\nthrough this rift in the wood, shone great golden stars looking\\nunfamiliar and grouped in strange constellations.  He was sure they\\nwere arranged in some order which had a secret and malign\\nsignificance.  The wood on either side was full of singular noises,\\namong which--once, twice, and again--he distinctly heard whispers in\\nan unknown tongue.\\n\\nHis neck was in pain and lifting his hand to it found it horribly\\nswollen.  He knew that it had a circle of black where the rope had\\nbruised it.  His eyes felt congested; he could no longer close them.\\nHis tongue was swollen with thirst; he relieved its fever by thrusting\\nit forward from between his teeth into the cold air.  How softly the\\nturf had carpeted the untraveled avenue--he could no longer feel the\\nroadway beneath his feet!\\n\\nDoubtless, despite his suffering, he had fallen asleep while walking,\\nfor now he sees another scene--perhaps he has merely recovered from a\\ndelirium.  He stands at the gate of his own home.  All is as he left\\nit, and all bright and beautiful in the morning sunshine.  He must\\nhave traveled the entire night.  As he pushes open the gate and passes\\nup the wide white walk, he sees a flutter of female garments; his\\nwife, looking fresh and cool and sweet, steps down from the veranda to\\nmeet him.  At the bottom of the steps she stands waiting, with a smile\\nof ineffable joy, an attitude of matchless grace and dignity.  Ah, how\\nbeautiful she is!  He springs forwards with extended arms.  As he is\\nabout to clasp her he feels a stunning blow upon the back of the neck;\\na blinding white light blazes all about him with a sound like the\\nshock of a cannon--then all is darkness and silence!\\n\\nPeyton Farquhar was dead; his body, with a broken neck, swung gently\\nfrom side to side beneath the timbers of the Owl Creek bridge.\\n\\n'"
      ]
     },
     "execution_count": 47,
     "metadata": {},
     "output_type": "execute_result"
    }
   ],
   "source": [
    "f.read()"
   ]
  },
  {
   "cell_type": "code",
   "execution_count": null,
   "metadata": {},
   "outputs": [],
   "source": [
    "import spacy\n",
    "nlp=spacy.load(\"en_core_web_sm\")"
   ]
  },
  {
   "cell_type": "code",
   "execution_count": 19,
   "metadata": {
    "id": "Ml1DMXekbBpg"
   },
   "outputs": [],
   "source": [
    "doc = nlp(text)"
   ]
  },
  {
   "cell_type": "code",
   "execution_count": 20,
   "metadata": {
    "colab": {
     "base_uri": "https://localhost:8080/"
    },
    "id": "NVsscPwSbamk",
    "outputId": "e4390b3a-be1c-4412-a848-843cab3ded7a"
   },
   "outputs": [
    {
     "name": "stdout",
     "output_type": "stream",
     "text": [
      "Number of tokens: 4835\n"
     ]
    }
   ],
   "source": [
    "#Q2\n",
    "num_tokens = len(doc)\n",
    "print(\"Number of tokens:\", num_tokens)\n"
   ]
  },
  {
   "cell_type": "code",
   "execution_count": 21,
   "metadata": {
    "colab": {
     "base_uri": "https://localhost:8080/"
    },
    "id": "AcrXkqMib3A4",
    "outputId": "1a36626c-655e-4cc8-e383-271cb4417446"
   },
   "outputs": [
    {
     "name": "stdout",
     "output_type": "stream",
     "text": [
      "Number of sentences: 204\n"
     ]
    }
   ],
   "source": [
    "#Q3\n",
    "num_sentences = len(list(doc.sents))\n",
    "print(\"Number of sentences:\", num_sentences)"
   ]
  },
  {
   "cell_type": "code",
   "execution_count": 48,
   "metadata": {
    "colab": {
     "base_uri": "https://localhost:8080/"
    },
    "id": "PInGQWtBcPWo",
    "outputId": "692a724e-8281-4a99-9d76-8e8387f4d5e8"
   },
   "outputs": [
    {
     "name": "stdout",
     "output_type": "stream",
     "text": [
      "Second sentence: The man's hands were behind\n",
      "his back, the wrists bound with a cord.  \n"
     ]
    }
   ],
   "source": [
    "#Q4\n",
    "second_sentence = list(doc.sents)[1]\n",
    "print(\"Second sentence:\", second_sentence)"
   ]
  },
  {
   "cell_type": "code",
   "execution_count": 32,
   "metadata": {
    "colab": {
     "base_uri": "https://localhost:8080/"
    },
    "id": "bo-m_X1NcXuU",
    "outputId": "a28da5db-e9d7-4aa5-ca55-9e8782480ca7"
   },
   "outputs": [
    {
     "name": "stdout",
     "output_type": "stream",
     "text": [
      "Text: The, POS: DET, Dep: det, Lemma: the\n",
      "Text: man, POS: NOUN, Dep: poss, Lemma: man\n",
      "Text: 's, POS: PART, Dep: case, Lemma: 's\n",
      "Text: hands, POS: NOUN, Dep: nsubj, Lemma: hand\n",
      "Text: were, POS: AUX, Dep: ROOT, Lemma: be\n",
      "Text: behind, POS: ADP, Dep: prep, Lemma: behind\n",
      "Text: \n",
      ", POS: SPACE, Dep: dep, Lemma: \n",
      "\n",
      "Text: his, POS: PRON, Dep: poss, Lemma: his\n",
      "Text: back, POS: NOUN, Dep: pobj, Lemma: back\n",
      "Text: ,, POS: PUNCT, Dep: punct, Lemma: ,\n",
      "Text: the, POS: DET, Dep: det, Lemma: the\n",
      "Text: wrists, POS: NOUN, Dep: appos, Lemma: wrist\n",
      "Text: bound, POS: VERB, Dep: acl, Lemma: bind\n",
      "Text: with, POS: ADP, Dep: prep, Lemma: with\n",
      "Text: a, POS: DET, Dep: det, Lemma: a\n",
      "Text: cord, POS: NOUN, Dep: pobj, Lemma: cord\n",
      "Text: ., POS: PUNCT, Dep: punct, Lemma: .\n",
      "Text:  , POS: SPACE, Dep: dep, Lemma:  \n"
     ]
    }
   ],
   "source": [
    "#Q5\n",
    "for token in second_sentence:\n",
    "    print(f'Text: {token.text}, POS: {token.pos_}, Dep: {token.dep_}, Lemma: {token.lemma_}')"
   ]
  },
  {
   "cell_type": "code",
   "execution_count": 58,
   "metadata": {
    "id": "ddtbgouwdU6o"
   },
   "outputs": [],
   "source": [
    "#Q6\n",
    "from spacy.matcher import Matcher\n",
    "matcher = Matcher(nlp.vocab)\n",
    "pattern = [{\"LOWER\": \"swimming\"}, {\"LOWER\": \"vigorously\"}]\n",
    "pattern1 = [{\"LOWER\": \"swimming\"},{\"IS_PUNCT\":True} ,{\"LOWER\": \"vigorously\"}]\n",
    "pattern2 = [{\"LOWER\": \"swimming\"}]\n",
    "pattern3 = [{\"LOWER\": \"vigorously\"}]\n",
    "\n",
    "\n",
    "matcher.add(\"Swimming\", [pattern,pattern1,pattern2,pattern3])\n",
    "matches = matcher(doc)"
   ]
  },
  {
   "cell_type": "code",
   "execution_count": 59,
   "metadata": {
    "colab": {
     "base_uri": "https://localhost:8080/"
    },
    "id": "rLOE2i0Wd7dl",
    "outputId": "b8ff8d3a-c586-4d5c-b6f9-c319705fb1d9"
   },
   "outputs": [
    {
     "name": "stdout",
     "output_type": "stream",
     "text": [
      "[(12881893835109366681, 1274, 1275), (12881893835109366681, 1276, 1277), (12881893835109366681, 2708, 2709), (12881893835109366681, 3609, 3610), (12881893835109366681, 3611, 3612)]\n"
     ]
    }
   ],
   "source": [
    "print(matches)"
   ]
  },
  {
   "cell_type": "code",
   "execution_count": 60,
   "metadata": {
    "id": "VFuNkl4gexXF"
   },
   "outputs": [
    {
     "name": "stdout",
     "output_type": "stream",
     "text": [
      "Match found: \"swimming\"\n",
      "Surrounding text: \" By diving I could evade the bullets and, swimming\n",
      "vigorously, reach the bank, take to the\"\n",
      "\n",
      "Match found: \"vigorously\"\n",
      "Surrounding text: \"diving I could evade the bullets and, swimming\n",
      "vigorously, reach the bank, take to the woods and\"\n",
      "\n",
      "Match found: \"vigorously\"\n",
      "Surrounding text: \"\n",
      "to the command.  They beat the water vigorously with quick, downward\n",
      "strokes, forcing him to\"\n",
      "\n",
      "Match found: \"swimming\"\n",
      "Surrounding text: \"saw all this over his shoulder; he was now swimming\n",
      "vigorously with the current.  His brain was\"\n",
      "\n",
      "Match found: \"vigorously\"\n",
      "Surrounding text: \"this over his shoulder; he was now swimming\n",
      "vigorously with the current.  His brain was as energetic\"\n",
      "\n"
     ]
    }
   ],
   "source": [
    "#Q7\n",
    "for match_id, start, end in matches:\n",
    "    matched_span = doc[start:end]\n",
    "    start_context = max(start - 10, 0)\n",
    "    end_context = min(end + 10, len(doc))\n",
    "\n",
    "    surrounding_text = doc[start_context:end_context].text\n",
    "    print(f'Match found: \"{matched_span.text}\"')\n",
    "    print(f'Surrounding text: \"{surrounding_text}\"\\n')"
   ]
  },
  {
   "cell_type": "code",
   "execution_count": null,
   "metadata": {
    "id": "MhrpS593fGzl"
   },
   "outputs": [],
   "source": []
  }
 ],
 "metadata": {
  "colab": {
   "provenance": []
  },
  "kernelspec": {
   "display_name": "Python 3 (ipykernel)",
   "language": "python",
   "name": "python3"
  },
  "language_info": {
   "codemirror_mode": {
    "name": "ipython",
    "version": 3
   },
   "file_extension": ".py",
   "mimetype": "text/x-python",
   "name": "python",
   "nbconvert_exporter": "python",
   "pygments_lexer": "ipython3",
   "version": "3.11.5"
  }
 },
 "nbformat": 4,
 "nbformat_minor": 1
}
