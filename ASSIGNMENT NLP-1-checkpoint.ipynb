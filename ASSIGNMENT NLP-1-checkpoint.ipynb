{
 "cells": [
  {
   "cell_type": "code",
   "execution_count": 1,
   "id": "c38e2637",
   "metadata": {},
   "outputs": [
    {
     "name": "stdout",
     "output_type": "stream",
     "text": [
      "NLP stands for natural language peocesssing\n"
     ]
    }
   ],
   "source": [
    "#Q-1\n",
    "\n",
    "x = \"natural language peocesssing\"\n",
    "print(f\"NLP stands for {x}\")"
   ]
  },
  {
   "cell_type": "code",
   "execution_count": 2,
   "id": "94fba08a",
   "metadata": {},
   "outputs": [
    {
     "data": {
      "text/plain": [
       "'C:\\\\Users\\\\khans'"
      ]
     },
     "execution_count": 2,
     "metadata": {},
     "output_type": "execute_result"
    }
   ],
   "source": [
    "pwd"
   ]
  },
  {
   "cell_type": "code",
   "execution_count": null,
   "id": "b87b4c0e",
   "metadata": {},
   "outputs": [],
   "source": [
    "#Q-2\n",
    "\n",
    "%%writefile contacts.txt\n",
    "hi1 hi2"
   ]
  },
  {
   "cell_type": "code",
   "execution_count": null,
   "id": "90f9ddcb",
   "metadata": {},
   "outputs": [],
   "source": [
    "#Q-3\n",
    "\n",
    "f = open('contacts.txt')\n",
    "f.read()"
   ]
  },
  {
   "cell_type": "code",
   "execution_count": 10,
   "id": "b0c2a9fa",
   "metadata": {},
   "outputs": [],
   "source": [
    "f.close()"
   ]
  },
  {
   "cell_type": "code",
   "execution_count": 11,
   "id": "3caa7c04",
   "metadata": {},
   "outputs": [
    {
     "name": "stdout",
     "output_type": "stream",
     "text": [
      "Defaulting to user installation because normal site-packages is not writeable\n",
      "Requirement already satisfied: pyPDF2 in c:\\users\\khans\\appdata\\roaming\\python\\python311\\site-packages (3.0.1)\n",
      "Note: you may need to restart the kernel to use updated packages.\n"
     ]
    },
    {
     "name": "stderr",
     "output_type": "stream",
     "text": [
      "DEPRECATION: Loading egg at c:\\programdata\\anaconda3\\lib\\site-packages\\vboxapi-1.0-py3.11.egg is deprecated. pip 23.3 will enforce this behaviour change. A possible replacement is to use pip for package installation..\n"
     ]
    }
   ],
   "source": [
    "pip  install pyPDF2"
   ]
  },
  {
   "cell_type": "code",
   "execution_count": 12,
   "id": "98e981a6",
   "metadata": {},
   "outputs": [],
   "source": [
    "#Q-4\n",
    "\n",
    "import PyPDF2 \n",
    "\n",
    "\n",
    "pdf = r'Business_Proposal.pdf'"
   ]
  },
  {
   "cell_type": "code",
   "execution_count": 13,
   "id": "957b6058",
   "metadata": {},
   "outputs": [],
   "source": [
    "f = open(pdf,'rb')"
   ]
  },
  {
   "cell_type": "code",
   "execution_count": 14,
   "id": "315f3c99",
   "metadata": {},
   "outputs": [],
   "source": [
    "pdf_reader = PyPDF2.PdfReader(f)"
   ]
  },
  {
   "cell_type": "code",
   "execution_count": 15,
   "id": "f333990b",
   "metadata": {},
   "outputs": [
    {
     "data": {
      "text/plain": [
       "2"
      ]
     },
     "execution_count": 15,
     "metadata": {},
     "output_type": "execute_result"
    }
   ],
   "source": [
    "len(pdf_reader.pages)"
   ]
  },
  {
   "cell_type": "code",
   "execution_count": 16,
   "id": "01969dca",
   "metadata": {},
   "outputs": [],
   "source": [
    "page_one = pdf_reader.pages[1]"
   ]
  },
  {
   "cell_type": "code",
   "execution_count": 17,
   "id": "fe6bc1b7",
   "metadata": {},
   "outputs": [],
   "source": [
    "page_one_txt = page_one.extract_text()"
   ]
  },
  {
   "cell_type": "code",
   "execution_count": 18,
   "id": "5311434c",
   "metadata": {},
   "outputs": [
    {
     "data": {
      "text/plain": [
       "'AUTHORS:  \\nAmy Baker, Finance Chair, x345, abaker@ourcompany.com  \\nChris Donaldson, Accounting Dir., x621, cdonaldson@ourcompany.com  \\nErin Freeman, Sr. VP, x879, efreeman@ourcompany.com  '"
      ]
     },
     "execution_count": 18,
     "metadata": {},
     "output_type": "execute_result"
    }
   ],
   "source": [
    "page_one_txt"
   ]
  },
  {
   "cell_type": "code",
   "execution_count": 19,
   "id": "4645a426",
   "metadata": {},
   "outputs": [],
   "source": [
    "#Q-5\n",
    "f = open(pdf , 'rb')"
   ]
  },
  {
   "cell_type": "code",
   "execution_count": 20,
   "id": "1f8aa845",
   "metadata": {},
   "outputs": [],
   "source": [
    "pdf_txt = []"
   ]
  },
  {
   "cell_type": "code",
   "execution_count": 21,
   "id": "4c6ecdf1",
   "metadata": {},
   "outputs": [],
   "source": [
    "pdf_reader = PyPDF2 "
   ]
  },
  {
   "cell_type": "code",
   "execution_count": null,
   "id": "e570c5ea",
   "metadata": {},
   "outputs": [],
   "source": []
  },
  {
   "cell_type": "code",
   "execution_count": null,
   "id": "8f338f41",
   "metadata": {},
   "outputs": [],
   "source": [
    "##Q6\n",
    "\n",
    "x="
   ]
  }
 ],
 "metadata": {
  "kernelspec": {
   "display_name": "Python 3 (ipykernel)",
   "language": "python",
   "name": "python3"
  },
  "language_info": {
   "codemirror_mode": {
    "name": "ipython",
    "version": 3
   },
   "file_extension": ".py",
   "mimetype": "text/x-python",
   "name": "python",
   "nbconvert_exporter": "python",
   "pygments_lexer": "ipython3",
   "version": "3.11.5"
  }
 },
 "nbformat": 4,
 "nbformat_minor": 5
}
